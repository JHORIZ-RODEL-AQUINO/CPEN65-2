{
  "cells": [
    {
      "cell_type": "markdown",
      "metadata": {
        "id": "view-in-github",
        "colab_type": "text"
      },
      "source": [
        "<a href=\"https://colab.research.google.com/github/JHORIZ-RODEL-AQUINO/CPEN65-2/blob/main/DSA_Exercise1.ipynb\" target=\"_parent\"><img src=\"https://colab.research.google.com/assets/colab-badge.svg\" alt=\"Open In Colab\"/></a>"
      ]
    },
    {
      "cell_type": "code",
      "source": [
        "char = []\n",
        "name = 'JHORIZ RODEL FAJARDO AQUINO'\n",
        "for n in name:\n",
        "  char.append(n)\n",
        "\n",
        "print(\"Characters:\", char, \"\\n\")\n",
        "\n",
        "char.reverse()\n",
        "\n",
        "print(\"Reversed Name:\", end=\" \")\n",
        "\n",
        "for n in char:\n",
        "  print(n, end=\"\")"
      ],
      "metadata": {
        "colab": {
          "base_uri": "https://localhost:8080/"
        },
        "id": "VyHmftz4HuBw",
        "outputId": "0586dc2f-6f8f-4eb3-b48b-d37494728fd6"
      },
      "id": "VyHmftz4HuBw",
      "execution_count": 1,
      "outputs": [
        {
          "output_type": "stream",
          "name": "stdout",
          "text": [
            "Characters: ['J', 'H', 'O', 'R', 'I', 'Z', ' ', 'R', 'O', 'D', 'E', 'L', ' ', 'F', 'A', 'J', 'A', 'R', 'D', 'O', ' ', 'A', 'Q', 'U', 'I', 'N', 'O'] \n",
            "\n",
            "Reversed Name: ONIUQA ODRAJAF LEDOR ZIROHJ"
          ]
        }
      ]
    }
  ],
  "metadata": {
    "kernelspec": {
      "display_name": "Python 3",
      "language": "python",
      "name": "python3"
    },
    "language_info": {
      "codemirror_mode": {
        "name": "ipython",
        "version": 3
      },
      "file_extension": ".py",
      "mimetype": "text/x-python",
      "name": "python",
      "nbconvert_exporter": "python",
      "pygments_lexer": "ipython3",
      "version": "3.6.12"
    },
    "colab": {
      "provenance": [],
      "include_colab_link": true
    }
  },
  "nbformat": 4,
  "nbformat_minor": 5
}