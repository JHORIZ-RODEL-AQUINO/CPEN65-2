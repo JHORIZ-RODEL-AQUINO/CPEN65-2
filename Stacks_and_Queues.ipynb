{
  "nbformat": 4,
  "nbformat_minor": 0,
  "metadata": {
    "colab": {
      "provenance": [],
      "authorship_tag": "ABX9TyM9L1vGP3wRIGiapRMscAGe",
      "include_colab_link": true
    },
    "kernelspec": {
      "name": "python3",
      "display_name": "Python 3"
    },
    "language_info": {
      "name": "python"
    }
  },
  "cells": [
    {
      "cell_type": "markdown",
      "metadata": {
        "id": "view-in-github",
        "colab_type": "text"
      },
      "source": [
        "<a href=\"https://colab.research.google.com/github/JHORIZ-RODEL-AQUINO/CPEN65-2/blob/main/Stacks_and_Queues.ipynb\" target=\"_parent\"><img src=\"https://colab.research.google.com/assets/colab-badge.svg\" alt=\"Open In Colab\"/></a>"
      ]
    },
    {
      "cell_type": "code",
      "execution_count": 23,
      "metadata": {
        "colab": {
          "base_uri": "https://localhost:8080/"
        },
        "id": "ZlAF3zeDR8fc",
        "outputId": "eee8fc93-bd22-42cc-bd77-3dc34f3bfb4f"
      },
      "outputs": [
        {
          "output_type": "stream",
          "name": "stdout",
          "text": [
            "[1, 2, 3]\n",
            "[1, 2]\n",
            "[1]\n",
            "[]\n"
          ]
        }
      ],
      "source": [
        "class Stack:\n",
        "  def __init__(self):\n",
        "    self.stack = []\n",
        "\n",
        "  def add(self, dataval):\n",
        "    if dataval not in self.stack:\n",
        "      self.stack.append(dataval)\n",
        "    \n",
        "    else: \n",
        "      return False\n",
        "\n",
        "  def remove(self):\n",
        "    if len(self.stack) <= 0:\n",
        "      return \"Stack is  empty\"\n",
        "\n",
        "    else:\n",
        "      return self.stack.pop()\n",
        "\n",
        "\n",
        "AStack = Stack()\n",
        "AStack.add(1)\n",
        "AStack.add(2)\n",
        "AStack.add(3)\n",
        "\n",
        "print(AStack.stack)\n",
        "\n",
        "AStack.remove()\n",
        "print(AStack.stack)\n",
        "AStack.remove()\n",
        "print(AStack.stack)\n",
        "AStack.remove()\n",
        "print(AStack.stack)"
      ]
    },
    {
      "cell_type": "code",
      "source": [
        "#Application 1\n",
        "\n",
        "#Implement the above program by Queues Data Structure (enqueue and dequque/FIFO principle)\n",
        "\n",
        "\n",
        "class Queue:\n",
        "  def __init__(self):\n",
        "    self.stack = []\n",
        "\n",
        "  def enqueue(self, dataval):\n",
        "    if dataval not in self.stack:\n",
        "      self.stack.append(dataval)\n",
        "    \n",
        "    else: \n",
        "      return False\n",
        "\n",
        "  def dequeue(self):\n",
        "    if len(self.stack) <= 0:\n",
        "      return \"Stack is  empty\"\n",
        "\n",
        "    else:\n",
        "      return self.stack.pop(0)\n",
        "\n",
        "\n",
        "AStack = Queue()\n",
        "AStack.enqueue(1)\n",
        "AStack.enqueue(2)\n",
        "AStack.enqueue(3)\n",
        "\n",
        "print(AStack.stack)\n",
        "\n",
        "AStack.dequeue()\n",
        "print(AStack.stack)\n",
        "AStack.dequeue()\n",
        "print(AStack.stack)\n",
        "AStack.dequeue()\n",
        "print(AStack.stack)"
      ],
      "metadata": {
        "colab": {
          "base_uri": "https://localhost:8080/"
        },
        "id": "FAdXsHTaUyKe",
        "outputId": "b09950cf-8122-43c3-9d1c-2d24e2a8849e"
      },
      "execution_count": 24,
      "outputs": [
        {
          "output_type": "stream",
          "name": "stdout",
          "text": [
            "[1, 2, 3]\n",
            "[2, 3]\n",
            "[3]\n",
            "[]\n"
          ]
        }
      ]
    }
  ]
}