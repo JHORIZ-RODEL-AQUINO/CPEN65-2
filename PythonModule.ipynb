{
  "nbformat": 4,
  "nbformat_minor": 0,
  "metadata": {
    "colab": {
      "provenance": [],
      "authorship_tag": "ABX9TyOgPJnh5viFxXTx7Od4pYse",
      "include_colab_link": true
    },
    "kernelspec": {
      "name": "python3",
      "display_name": "Python 3"
    },
    "language_info": {
      "name": "python"
    }
  },
  "cells": [
    {
      "cell_type": "markdown",
      "metadata": {
        "id": "view-in-github",
        "colab_type": "text"
      },
      "source": [
        "<a href=\"https://colab.research.google.com/github/JHORIZ-RODEL-AQUINO/CPEN65-2/blob/main/PythonModule.ipynb\" target=\"_parent\"><img src=\"https://colab.research.google.com/assets/colab-badge.svg\" alt=\"Open In Colab\"/></a>"
      ]
    },
    {
      "cell_type": "markdown",
      "source": [
        "Array Module in Python"
      ],
      "metadata": {
        "id": "0ntKKwOSNsWN"
      }
    },
    {
      "cell_type": "code",
      "source": [
        "import array as arr\n",
        "arr.typecodes\n"
      ],
      "metadata": {
        "colab": {
          "base_uri": "https://localhost:8080/",
          "height": 35
        },
        "id": "s2aVgRjKNwgd",
        "outputId": "783b46ee-c851-4d38-bec7-2ec6dd7f0b45"
      },
      "execution_count": null,
      "outputs": [
        {
          "output_type": "execute_result",
          "data": {
            "text/plain": [
              "'bBuhHiIlLqQfd'"
            ],
            "application/vnd.google.colaboratory.intrinsic+json": {
              "type": "string"
            }
          },
          "metadata": {},
          "execution_count": 2
        }
      ]
    },
    {
      "cell_type": "code",
      "source": [
        "a = arr.array('i', [1, 2, 3, 4, 5])\n",
        "print(a.typecode)\n",
        "b = arr.array('f', [1.5, 2.5, 3.5, 4.5, 5.5])\n",
        "print(b.typecode)"
      ],
      "metadata": {
        "colab": {
          "base_uri": "https://localhost:8080/"
        },
        "id": "Ai2C7pVhN0kR",
        "outputId": "8a9b2d14-76fa-4cfd-be6c-6e6f0963c4a1"
      },
      "execution_count": null,
      "outputs": [
        {
          "output_type": "stream",
          "name": "stdout",
          "text": [
            "i\n",
            "f\n"
          ]
        }
      ]
    },
    {
      "cell_type": "code",
      "source": [
        "a = arr.array('i', [4, 5, 6, 7])\n",
        "print(a)\n",
        "\n",
        "a.insert(1, 2)\n",
        "print(a)\n",
        "\n",
        "a.insert(-1, 0)\n",
        "print(a)\n",
        "\n",
        "a.insert()"
      ],
      "metadata": {
        "colab": {
          "base_uri": "https://localhost:8080/"
        },
        "id": "JlImPafNO9De",
        "outputId": "a51c0e37-92a8-4d14-e21d-797c3ca1080b"
      },
      "execution_count": null,
      "outputs": [
        {
          "output_type": "stream",
          "name": "stdout",
          "text": [
            "array('i', [4, 5, 6, 7])\n",
            "array('i', [4, 2, 5, 6, 7])\n",
            "array('i', [4, 2, 5, 6, 0, 7])\n"
          ]
        }
      ]
    },
    {
      "cell_type": "markdown",
      "source": [
        "Linked List"
      ],
      "metadata": {
        "id": "qiPyWLTqVKrv"
      }
    },
    {
      "cell_type": "code",
      "source": [
        "#Python program to create a singly linked of vowels in English alphabet\n",
        "\n",
        "#Node Class\n",
        "\n",
        "class Node:\n",
        "  def __init__(self, data):\n",
        "    self.data = data\n",
        "    self.next = None\n",
        "\n",
        "\n",
        "#Linked List that contains node objects\n",
        "\n",
        "class LinkedList:\n",
        "  def __init__(self):\n",
        "    self.head = None\n",
        "\n",
        "  def printlist(self):\n",
        "    temp = self.head\n",
        "\n",
        "    while temp:\n",
        "      print(temp.data)\n",
        "      temp = temp.next\n",
        "\n",
        "\n",
        "llist = LinkedList()\n",
        "llist.head = Node('a')\n",
        "second = Node('e')\n",
        "third = Node('i')\n",
        "fourth = Node('o')\n",
        "fifth = Node ('u')\n",
        "\n",
        "y = (llist.head, second, third, fourth, fifth)\n",
        "\n",
        "for i in range(len(y)):\n",
        "  if i != 4:\n",
        "    y[i].next = y[i+1]\n",
        "\n",
        "llist.printlist()\n",
        "\n"
      ],
      "metadata": {
        "colab": {
          "base_uri": "https://localhost:8080/"
        },
        "id": "OiMtfA1aUMaA",
        "outputId": "314d26bc-24ac-44b4-b674-81ad0ec78f08"
      },
      "execution_count": 1,
      "outputs": [
        {
          "output_type": "stream",
          "name": "stdout",
          "text": [
            "a\n",
            "e\n",
            "i\n",
            "o\n",
            "u\n"
          ]
        }
      ]
    }
  ]
}