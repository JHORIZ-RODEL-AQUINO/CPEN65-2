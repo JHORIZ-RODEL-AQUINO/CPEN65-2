{
  "nbformat": 4,
  "nbformat_minor": 0,
  "metadata": {
    "colab": {
      "provenance": [],
      "authorship_tag": "ABX9TyM97UGWpfoBjUeOOGyJpW19",
      "include_colab_link": true
    },
    "kernelspec": {
      "name": "python3",
      "display_name": "Python 3"
    },
    "language_info": {
      "name": "python"
    }
  },
  "cells": [
    {
      "cell_type": "markdown",
      "metadata": {
        "id": "view-in-github",
        "colab_type": "text"
      },
      "source": [
        "<a href=\"https://colab.research.google.com/github/JHORIZ-RODEL-AQUINO/CPEN65-2/blob/main/Aquino%2CJhorizRodel_Midterm_Exam.ipynb\" target=\"_parent\"><img src=\"https://colab.research.google.com/assets/colab-badge.svg\" alt=\"Open In Colab\"/></a>"
      ]
    },
    {
      "cell_type": "code",
      "execution_count": 2,
      "metadata": {
        "id": "Aj3pAUICEOCy"
      },
      "outputs": [],
      "source": [
        "import array as arr"
      ]
    },
    {
      "cell_type": "markdown",
      "source": [
        "1. Write a Python program to create an array of 10 integers and display the array items. Access individual elements through indexes and compute for the sum."
      ],
      "metadata": {
        "id": "Ewz9e3ymE-eT"
      }
    },
    {
      "cell_type": "code",
      "source": [
        "a = arr.array('i', [12, 6, 5, 73, 59, 22, 4, 39, 10, 84])\n",
        "\n",
        "sum = 0\n",
        "for indx in range(10):  \n",
        "  sum += a[indx]  # accessing each element via its index and adding them all at once\n",
        "\n",
        "print(\"Sum =\", sum)"
      ],
      "metadata": {
        "colab": {
          "base_uri": "https://localhost:8080/"
        },
        "id": "LXZJ4VxbEyBd",
        "outputId": "8fc474ad-d507-46f6-880d-545d55e340e8"
      },
      "execution_count": 29,
      "outputs": [
        {
          "output_type": "stream",
          "name": "stdout",
          "text": [
            "Sum = 314\n"
          ]
        }
      ]
    },
    {
      "cell_type": "markdown",
      "source": [
        "2. Write a Python program to append a new item to the end of the array. Original array: numbers = [1, 2, 3, 4, 5, 6, 7, 8, 9, 10]"
      ],
      "metadata": {
        "id": "gtC91TxyHLD7"
      }
    },
    {
      "cell_type": "code",
      "source": [
        "b = arr.array('i', [1, 2, 3, 4, 5, 6, 7, 8, 9, 10])\n",
        "print(b)\n",
        "\n",
        "b.append(11)\n",
        "print(b)"
      ],
      "metadata": {
        "colab": {
          "base_uri": "https://localhost:8080/"
        },
        "id": "oy7dUf7sHaIb",
        "outputId": "cacaed46-038e-4e7c-f170-64be3274d24a"
      },
      "execution_count": 23,
      "outputs": [
        {
          "output_type": "stream",
          "name": "stdout",
          "text": [
            "array('i', [1, 2, 3, 4, 5, 6, 7, 8, 9, 10])\n",
            "array('i', [1, 2, 3, 4, 5, 6, 7, 8, 9, 10, 11])\n"
          ]
        }
      ]
    },
    {
      "cell_type": "markdown",
      "source": [
        "3. Write a Python program to insert a new item before the second element in an existing array. Original array: numbers = [1, 2, 3, 4, 5, 6, 7, 8, 9, 10]"
      ],
      "metadata": {
        "id": "BdJalxdPH8za"
      }
    },
    {
      "cell_type": "code",
      "source": [
        "c = arr.array('i', [1, 2, 3, 4, 5, 6, 7, 8, 9, 10])\n",
        "print(c)\n",
        "\n",
        "c.insert(1, 100)\n",
        "print(c)"
      ],
      "metadata": {
        "colab": {
          "base_uri": "https://localhost:8080/"
        },
        "id": "LHDwL-MoIE1i",
        "outputId": "ff217017-c858-461a-d31c-5fa656145959"
      },
      "execution_count": 24,
      "outputs": [
        {
          "output_type": "stream",
          "name": "stdout",
          "text": [
            "array('i', [1, 2, 3, 4, 5, 6, 7, 8, 9, 10])\n",
            "array('i', [1, 100, 2, 3, 4, 5, 6, 7, 8, 9, 10])\n"
          ]
        }
      ]
    },
    {
      "cell_type": "markdown",
      "source": [
        "4. Write a Python program to reverse the order of the items in the array. Original array: numbers = [5, 4, 3, 2, 1]"
      ],
      "metadata": {
        "id": "mYlATVNBIjPj"
      }
    },
    {
      "cell_type": "code",
      "source": [
        "d = arr.array('i', [5, 4, 3, 2, 1])\n",
        "print(d)\n",
        "\n",
        "d.reverse()\n",
        "print(d)"
      ],
      "metadata": {
        "colab": {
          "base_uri": "https://localhost:8080/"
        },
        "id": "EjR6QAkrIm07",
        "outputId": "1bb760dd-7027-45c7-ed6a-db4a160976f1"
      },
      "execution_count": 25,
      "outputs": [
        {
          "output_type": "stream",
          "name": "stdout",
          "text": [
            "array('i', [5, 4, 3, 2, 1])\n",
            "array('i', [1, 2, 3, 4, 5])\n"
          ]
        }
      ]
    },
    {
      "cell_type": "markdown",
      "source": [
        "5. Write a Python program to get the length of the array. Original array: numbers = [5, 4, 3, 2, 1]"
      ],
      "metadata": {
        "id": "R9pZj2dRI2tD"
      }
    },
    {
      "cell_type": "code",
      "source": [
        "e = arr.array('i', [5, 4, 3, 2, 1])\n",
        "\n",
        "print(\"Length =\", len(e))"
      ],
      "metadata": {
        "colab": {
          "base_uri": "https://localhost:8080/"
        },
        "id": "WtzlDj1FI9-k",
        "outputId": "0e647532-19dd-4058-8617-c8078ef2e9f1"
      },
      "execution_count": 26,
      "outputs": [
        {
          "output_type": "stream",
          "name": "stdout",
          "text": [
            "Length = 5\n"
          ]
        }
      ]
    }
  ]
}